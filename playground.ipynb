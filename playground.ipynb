{
 "cells": [
  {
   "cell_type": "code",
   "execution_count": 3,
   "metadata": {},
   "outputs": [],
   "source": [
    "import json \n",
    "with open(\"data/annotations.json\", \"r\") as f:\n",
    "    annotations = json.load(f)"
   ]
  },
  {
   "cell_type": "code",
   "execution_count": 4,
   "metadata": {},
   "outputs": [
    {
     "data": {
      "text/plain": [
       "dict_keys(['info', 'images', 'annotations', 'scene_annotations', 'licenses', 'categories', 'scene_categories'])"
      ]
     },
     "execution_count": 4,
     "metadata": {},
     "output_type": "execute_result"
    }
   ],
   "source": [
    "annotations.keys()"
   ]
  },
  {
   "cell_type": "code",
   "execution_count": 5,
   "metadata": {},
   "outputs": [],
   "source": [
    "images = annotations[\"images\"]"
   ]
  },
  {
   "cell_type": "code",
   "execution_count": 6,
   "metadata": {},
   "outputs": [],
   "source": [
    "from PIL import Image\n",
    "import numpy as np "
   ]
  },
  {
   "cell_type": "code",
   "execution_count": 7,
   "metadata": {},
   "outputs": [],
   "source": [
    "path = images[0][\"file_name\"]\n",
    "\n",
    "# open image from path\n",
    "img = Image.open(\"data/\" + path)\n",
    "img_array = np.array(img)"
   ]
  },
  {
   "cell_type": "code",
   "execution_count": 8,
   "metadata": {},
   "outputs": [],
   "source": [
    "img.show()"
   ]
  },
  {
   "cell_type": "code",
   "execution_count": 9,
   "metadata": {},
   "outputs": [],
   "source": [
    "import os"
   ]
  },
  {
   "cell_type": "code",
   "execution_count": 10,
   "metadata": {},
   "outputs": [
    {
     "name": "stdout",
     "output_type": "stream",
     "text": [
      "['batch_14', 'batch_13', 'batch_1', 'batch_6', 'batch_8', 'batch_12', 'batch_15', 'batch_9', 'batch_7', 'batch_5', 'batch_2', 'batch_10', 'batch_3', 'batch_4', 'batch_11']\n"
     ]
    }
   ],
   "source": [
    "batchFolderNames = []\n",
    "for filename in os.listdir(\"data\"):\n",
    "    if not filename.startswith('.') and os.path.splitext(filename)[1] != '.csv' and os.path.splitext(filename)[1] != '.json':\n",
    "        batchFolderNames.append(filename)\n",
    "print(batchFolderNames)"
   ]
  },
  {
   "cell_type": "code",
   "execution_count": 11,
   "metadata": {},
   "outputs": [],
   "source": [
    "import shutil"
   ]
  },
  {
   "cell_type": "code",
   "execution_count": 12,
   "metadata": {},
   "outputs": [],
   "source": [
    "def splitData(batchFolderName, trainTestValCumulativeSplit):\n",
    "    os.makedirs(\"data/\" + batchFolderName + \"/train\")\n",
    "    os.makedirs(\"data/\" + batchFolderName + \"/test\")\n",
    "    os.makedirs(\"data/\" + batchFolderName + \"/val\")\n",
    "    fileNames = []\n",
    "    for image in images:\n",
    "        if image['file_name'].split('/')[0] == batchFolderName:\n",
    "            fileNames.append(image['file_name'])\n",
    "    fileNames.sort()\n",
    "    print(fileNames)\n",
    "    for i, file in enumerate(fileNames):\n",
    "        file = list(file.split(\"/\"))\n",
    "        if (i / len(fileNames)) < trainTestValCumulativeSplit[0]:\n",
    "            shutil.move(\"data/\" + file[0] + '/' + file[1], \"data/\" + file[0] + '/train/' + file[1])\n",
    "        if trainTestValCumulativeSplit[0] < (i / len(fileNames)) < trainTestValCumulativeSplit[1]:\n",
    "            shutil.move(\"data/\" + file[0] + '/' + file[1], \"data/\" + file[0] + '/test/' + file[1])\n",
    "        if trainTestValCumulativeSplit[1] < (i / len(fileNames)):\n",
    "            shutil.move(\"data/\" + file[0] + '/' + file[1], \"data/\" + file[0] + '/val/' + file[1])"
   ]
  },
  {
   "cell_type": "code",
   "execution_count": 13,
   "metadata": {},
   "outputs": [
    {
     "name": "stdout",
     "output_type": "stream",
     "text": [
      "['batch_14/000000.jpg', 'batch_14/000001.jpg', 'batch_14/000002.jpg', 'batch_14/000003.jpg', 'batch_14/000004.jpg', 'batch_14/000005.jpg', 'batch_14/000006.jpg', 'batch_14/000007.jpg', 'batch_14/000008.jpg', 'batch_14/000009.jpg', 'batch_14/000010.jpg', 'batch_14/000011.jpg', 'batch_14/000012.jpg', 'batch_14/000013.jpg', 'batch_14/000014.jpg', 'batch_14/000015.jpg', 'batch_14/000016.jpg', 'batch_14/000017.jpg', 'batch_14/000018.jpg', 'batch_14/000019.jpg', 'batch_14/000020.jpg', 'batch_14/000021.jpg', 'batch_14/000022.jpg', 'batch_14/000023.jpg', 'batch_14/000024.jpg', 'batch_14/000025.jpg', 'batch_14/000026.jpg', 'batch_14/000027.jpg', 'batch_14/000028.jpg', 'batch_14/000029.jpg', 'batch_14/000030.jpg', 'batch_14/000031.jpg', 'batch_14/000032.jpg', 'batch_14/000033.jpg', 'batch_14/000034.jpg', 'batch_14/000035.jpg', 'batch_14/000036.jpg', 'batch_14/000037.jpg', 'batch_14/000038.jpg', 'batch_14/000039.jpg', 'batch_14/000040.jpg', 'batch_14/000041.jpg', 'batch_14/000042.jpg', 'batch_14/000043.jpg', 'batch_14/000044.jpg', 'batch_14/000045.jpg', 'batch_14/000046.jpg', 'batch_14/000047.jpg', 'batch_14/000048.jpg', 'batch_14/000049.jpg', 'batch_14/000050.jpg', 'batch_14/000051.jpg', 'batch_14/000052.jpg', 'batch_14/000053.jpg', 'batch_14/000054.jpg', 'batch_14/000055.jpg', 'batch_14/000056.jpg', 'batch_14/000057.jpg', 'batch_14/000058.jpg', 'batch_14/000059.jpg', 'batch_14/000060.jpg', 'batch_14/000061.jpg', 'batch_14/000062.jpg', 'batch_14/000063.jpg', 'batch_14/000064.jpg', 'batch_14/000065.jpg', 'batch_14/000066.jpg', 'batch_14/000067.jpg', 'batch_14/000068.jpg', 'batch_14/000069.jpg', 'batch_14/000070.jpg', 'batch_14/000071.jpg', 'batch_14/000072.jpg', 'batch_14/000073.jpg', 'batch_14/000074.jpg', 'batch_14/000075.jpg', 'batch_14/000076.jpg', 'batch_14/000077.jpg', 'batch_14/000078.jpg', 'batch_14/000079.jpg', 'batch_14/000080.jpg', 'batch_14/000081.jpg', 'batch_14/000082.jpg', 'batch_14/000083.jpg', 'batch_14/000084.jpg', 'batch_14/000085.jpg', 'batch_14/000086.jpg', 'batch_14/000087.jpg', 'batch_14/000088.jpg', 'batch_14/000089.jpg', 'batch_14/000090.jpg', 'batch_14/000091.jpg', 'batch_14/000092.jpg', 'batch_14/000093.jpg', 'batch_14/000094.jpg', 'batch_14/000095.jpg', 'batch_14/000096.jpg', 'batch_14/000097.jpg', 'batch_14/000098.jpg', 'batch_14/000099.jpg']\n",
      "['batch_13/000000.jpg', 'batch_13/000001.jpg', 'batch_13/000002.jpg', 'batch_13/000003.jpg', 'batch_13/000004.jpg', 'batch_13/000005.jpg', 'batch_13/000006.jpg', 'batch_13/000007.jpg', 'batch_13/000008.jpg', 'batch_13/000009.jpg', 'batch_13/000010.jpg', 'batch_13/000011.jpg', 'batch_13/000012.jpg', 'batch_13/000013.jpg', 'batch_13/000014.jpg', 'batch_13/000015.jpg', 'batch_13/000016.jpg', 'batch_13/000017.jpg', 'batch_13/000018.jpg', 'batch_13/000019.jpg', 'batch_13/000020.jpg', 'batch_13/000021.jpg', 'batch_13/000022.jpg', 'batch_13/000023.jpg', 'batch_13/000024.jpg', 'batch_13/000025.jpg', 'batch_13/000026.jpg', 'batch_13/000027.jpg', 'batch_13/000028.jpg', 'batch_13/000029.jpg', 'batch_13/000030.jpg', 'batch_13/000031.jpg', 'batch_13/000032.jpg', 'batch_13/000033.jpg', 'batch_13/000034.jpg', 'batch_13/000035.jpg', 'batch_13/000036.jpg', 'batch_13/000037.jpg', 'batch_13/000038.jpg', 'batch_13/000039.jpg', 'batch_13/000040.jpg', 'batch_13/000041.jpg', 'batch_13/000042.jpg', 'batch_13/000043.jpg', 'batch_13/000044.jpg', 'batch_13/000045.jpg', 'batch_13/000046.jpg', 'batch_13/000047.jpg', 'batch_13/000048.jpg', 'batch_13/000049.jpg', 'batch_13/000050.jpg', 'batch_13/000051.jpg', 'batch_13/000052.jpg', 'batch_13/000053.jpg', 'batch_13/000054.jpg', 'batch_13/000055.jpg', 'batch_13/000056.jpg', 'batch_13/000057.jpg', 'batch_13/000058.jpg', 'batch_13/000059.jpg', 'batch_13/000060.jpg', 'batch_13/000061.jpg', 'batch_13/000062.jpg', 'batch_13/000063.jpg', 'batch_13/000064.jpg', 'batch_13/000065.jpg', 'batch_13/000066.jpg', 'batch_13/000067.jpg', 'batch_13/000068.jpg', 'batch_13/000069.jpg', 'batch_13/000070.jpg', 'batch_13/000071.jpg', 'batch_13/000072.jpg', 'batch_13/000073.jpg', 'batch_13/000074.jpg', 'batch_13/000075.jpg', 'batch_13/000076.jpg', 'batch_13/000077.jpg', 'batch_13/000078.jpg', 'batch_13/000079.jpg', 'batch_13/000080.jpg', 'batch_13/000081.jpg', 'batch_13/000082.jpg', 'batch_13/000083.jpg', 'batch_13/000084.jpg', 'batch_13/000085.jpg', 'batch_13/000086.jpg', 'batch_13/000087.jpg', 'batch_13/000088.jpg', 'batch_13/000089.jpg', 'batch_13/000090.jpg', 'batch_13/000091.jpg', 'batch_13/000092.jpg', 'batch_13/000093.jpg', 'batch_13/000094.jpg', 'batch_13/000095.jpg', 'batch_13/000096.jpg', 'batch_13/000097.jpg', 'batch_13/000098.jpg', 'batch_13/000099.jpg']\n",
      "['batch_1/000000.jpg', 'batch_1/000001.jpg', 'batch_1/000003.jpg', 'batch_1/000004.jpg', 'batch_1/000005.jpg', 'batch_1/000006.jpg', 'batch_1/000007.jpg', 'batch_1/000008.jpg', 'batch_1/000010.jpg', 'batch_1/000011.jpg', 'batch_1/000012.jpg', 'batch_1/000013.jpg', 'batch_1/000014.jpg', 'batch_1/000015.jpg', 'batch_1/000016.jpg', 'batch_1/000017.jpg', 'batch_1/000019.jpg', 'batch_1/000021.jpg', 'batch_1/000022.jpg', 'batch_1/000023.jpg', 'batch_1/000024.jpg', 'batch_1/000025.jpg', 'batch_1/000026.jpg', 'batch_1/000027.jpg', 'batch_1/000028.jpg', 'batch_1/000029.jpg', 'batch_1/000030.jpg', 'batch_1/000031.jpg', 'batch_1/000032.jpg', 'batch_1/000035.jpg', 'batch_1/000037.jpg', 'batch_1/000038.jpg', 'batch_1/000040.jpg', 'batch_1/000042.jpg', 'batch_1/000043.jpg', 'batch_1/000045.jpg', 'batch_1/000047.jpg', 'batch_1/000048.jpg', 'batch_1/000049.jpg', 'batch_1/000050.jpg', 'batch_1/000053.jpg', 'batch_1/000054.jpg', 'batch_1/000055.jpg', 'batch_1/000056.jpg', 'batch_1/000058.jpg', 'batch_1/000059.jpg', 'batch_1/000060.jpg', 'batch_1/000061.jpg', 'batch_1/000062.JPG', 'batch_1/000064.JPG', 'batch_1/000065.JPG', 'batch_1/000066.JPG', 'batch_1/000067.JPG', 'batch_1/000068.JPG', 'batch_1/000069.JPG', 'batch_1/000070.JPG', 'batch_1/000071.JPG', 'batch_1/000072.JPG', 'batch_1/000073.JPG', 'batch_1/000074.JPG', 'batch_1/000076.JPG', 'batch_1/000078.JPG', 'batch_1/000079.JPG', 'batch_1/000081.JPG', 'batch_1/000082.JPG', 'batch_1/000083.JPG', 'batch_1/000084.JPG', 'batch_1/000085.JPG', 'batch_1/000086.JPG', 'batch_1/000087.JPG', 'batch_1/000088.JPG', 'batch_1/000090.JPG', 'batch_1/000091.JPG', 'batch_1/000092.JPG', 'batch_1/000093.JPG', 'batch_1/000094.JPG', 'batch_1/000095.JPG', 'batch_1/000096.JPG', 'batch_1/000098.JPG', 'batch_1/000099.JPG', 'batch_1/000100.JPG', 'batch_1/000101.JPG', 'batch_1/000102.JPG', 'batch_1/000104.JPG', 'batch_1/000105.JPG', 'batch_1/000106.JPG', 'batch_1/000107.JPG', 'batch_1/000108.JPG', 'batch_1/000110.JPG', 'batch_1/000111.JPG', 'batch_1/000115.JPG', 'batch_1/000117.JPG', 'batch_1/000118.JPG', 'batch_1/000119.JPG', 'batch_1/000120.JPG', 'batch_1/000121.JPG', 'batch_1/000122.JPG', 'batch_1/000124.JPG', 'batch_1/000127.JPG', 'batch_1/000128.JPG', 'batch_1/000129.JPG']\n",
      "['batch_6/000000.JPG', 'batch_6/000001.JPG', 'batch_6/000002.JPG', 'batch_6/000003.JPG', 'batch_6/000005.JPG', 'batch_6/000006.JPG', 'batch_6/000007.JPG', 'batch_6/000008.JPG', 'batch_6/000009.JPG', 'batch_6/000010.JPG', 'batch_6/000011.JPG', 'batch_6/000013.JPG', 'batch_6/000014.JPG', 'batch_6/000015.JPG', 'batch_6/000017.JPG', 'batch_6/000018.JPG', 'batch_6/000019.JPG', 'batch_6/000020.JPG', 'batch_6/000021.JPG', 'batch_6/000022.JPG', 'batch_6/000023.JPG', 'batch_6/000024.JPG', 'batch_6/000025.JPG', 'batch_6/000026.JPG', 'batch_6/000027.JPG', 'batch_6/000028.JPG', 'batch_6/000029.JPG', 'batch_6/000031.JPG', 'batch_6/000032.JPG', 'batch_6/000033.JPG', 'batch_6/000034.JPG', 'batch_6/000035.JPG', 'batch_6/000036.JPG', 'batch_6/000037.JPG', 'batch_6/000038.JPG', 'batch_6/000039.JPG', 'batch_6/000040.JPG', 'batch_6/000041.JPG', 'batch_6/000042.JPG', 'batch_6/000043.JPG', 'batch_6/000045.JPG', 'batch_6/000046.JPG', 'batch_6/000047.JPG', 'batch_6/000048.JPG', 'batch_6/000049.JPG', 'batch_6/000050.JPG', 'batch_6/000051.JPG', 'batch_6/000052.JPG', 'batch_6/000053.JPG', 'batch_6/000054.JPG', 'batch_6/000055.JPG', 'batch_6/000056.JPG', 'batch_6/000057.JPG', 'batch_6/000058.JPG', 'batch_6/000059.JPG', 'batch_6/000060.JPG', 'batch_6/000061.JPG', 'batch_6/000062.JPG', 'batch_6/000063.JPG', 'batch_6/000064.JPG', 'batch_6/000065.JPG', 'batch_6/000066.JPG', 'batch_6/000068.JPG', 'batch_6/000069.JPG', 'batch_6/000070.JPG', 'batch_6/000071.JPG', 'batch_6/000072.JPG', 'batch_6/000073.JPG', 'batch_6/000074.JPG', 'batch_6/000075.JPG', 'batch_6/000076.JPG', 'batch_6/000077.JPG', 'batch_6/000078.JPG', 'batch_6/000079.JPG', 'batch_6/000080.JPG', 'batch_6/000082.JPG', 'batch_6/000083.JPG', 'batch_6/000085.JPG', 'batch_6/000086.JPG', 'batch_6/000087.JPG', 'batch_6/000088.JPG', 'batch_6/000089.JPG', 'batch_6/000090.JPG', 'batch_6/000091.JPG', 'batch_6/000092.JPG', 'batch_6/000093.JPG', 'batch_6/000094.JPG', 'batch_6/000095.JPG', 'batch_6/000096.JPG', 'batch_6/000097.JPG', 'batch_6/000098.JPG', 'batch_6/000099.JPG', 'batch_6/000100.JPG', 'batch_6/000101.JPG', 'batch_6/000102.JPG', 'batch_6/000103.JPG', 'batch_6/000104.JPG']\n",
      "['batch_8/000000.jpg', 'batch_8/000001.jpg', 'batch_8/000002.jpg', 'batch_8/000003.jpg', 'batch_8/000004.jpg', 'batch_8/000005.jpg', 'batch_8/000006.jpg', 'batch_8/000007.jpg', 'batch_8/000008.jpg', 'batch_8/000009.jpg', 'batch_8/000010.jpg', 'batch_8/000011.jpg', 'batch_8/000012.jpg', 'batch_8/000013.jpg', 'batch_8/000014.jpg', 'batch_8/000015.jpg', 'batch_8/000016.jpg', 'batch_8/000017.jpg', 'batch_8/000018.jpg', 'batch_8/000019.jpg', 'batch_8/000020.jpg', 'batch_8/000021.jpg', 'batch_8/000022.jpg', 'batch_8/000023.jpg', 'batch_8/000024.jpg', 'batch_8/000025.jpg', 'batch_8/000026.jpg', 'batch_8/000027.jpg', 'batch_8/000028.jpg', 'batch_8/000029.jpg', 'batch_8/000030.jpg', 'batch_8/000031.jpg', 'batch_8/000032.jpg', 'batch_8/000033.jpg', 'batch_8/000034.jpg', 'batch_8/000035.jpg', 'batch_8/000036.jpg', 'batch_8/000037.jpg', 'batch_8/000038.jpg', 'batch_8/000039.jpg', 'batch_8/000040.jpg', 'batch_8/000041.jpg', 'batch_8/000042.jpg', 'batch_8/000043.jpg', 'batch_8/000044.jpg', 'batch_8/000045.jpg', 'batch_8/000046.jpg', 'batch_8/000047.jpg', 'batch_8/000048.jpg', 'batch_8/000049.jpg', 'batch_8/000050.jpg', 'batch_8/000051.jpg', 'batch_8/000052.jpg', 'batch_8/000053.jpg', 'batch_8/000054.jpg', 'batch_8/000055.jpg', 'batch_8/000056.jpg', 'batch_8/000057.jpg', 'batch_8/000058.jpg', 'batch_8/000059.jpg', 'batch_8/000060.jpg', 'batch_8/000061.jpg', 'batch_8/000062.jpg', 'batch_8/000063.jpg', 'batch_8/000064.jpg', 'batch_8/000065.jpg', 'batch_8/000066.jpg', 'batch_8/000067.jpg', 'batch_8/000068.jpg', 'batch_8/000069.jpg', 'batch_8/000070.jpg', 'batch_8/000071.jpg', 'batch_8/000072.jpg', 'batch_8/000073.jpg', 'batch_8/000074.jpg', 'batch_8/000075.jpg', 'batch_8/000076.jpg', 'batch_8/000077.jpg', 'batch_8/000078.jpg', 'batch_8/000079.jpg', 'batch_8/000080.jpg', 'batch_8/000081.jpg', 'batch_8/000082.jpg', 'batch_8/000083.jpg', 'batch_8/000084.jpg', 'batch_8/000085.jpg', 'batch_8/000086.jpg', 'batch_8/000087.jpg', 'batch_8/000088.jpg', 'batch_8/000089.jpg', 'batch_8/000090.jpg', 'batch_8/000091.jpg', 'batch_8/000092.jpg', 'batch_8/000093.jpg', 'batch_8/000094.jpg', 'batch_8/000095.jpg', 'batch_8/000096.jpg', 'batch_8/000097.jpg', 'batch_8/000098.jpg', 'batch_8/000099.jpg']\n",
      "['batch_12/000000.jpg', 'batch_12/000001.jpg', 'batch_12/000002.jpg', 'batch_12/000003.jpg', 'batch_12/000004.jpg', 'batch_12/000005.jpg', 'batch_12/000006.jpg', 'batch_12/000007.jpg', 'batch_12/000008.jpg', 'batch_12/000009.jpg', 'batch_12/000010.jpg', 'batch_12/000011.jpg', 'batch_12/000012.jpg', 'batch_12/000013.jpg', 'batch_12/000014.jpg', 'batch_12/000015.jpg', 'batch_12/000016.jpg', 'batch_12/000017.jpg', 'batch_12/000018.jpg', 'batch_12/000019.jpg', 'batch_12/000020.jpg', 'batch_12/000021.jpg', 'batch_12/000022.jpg', 'batch_12/000023.jpg', 'batch_12/000024.jpg', 'batch_12/000025.jpg', 'batch_12/000026.jpg', 'batch_12/000027.jpg', 'batch_12/000028.jpg', 'batch_12/000029.jpg', 'batch_12/000030.jpg', 'batch_12/000031.jpg', 'batch_12/000032.jpg', 'batch_12/000033.jpg', 'batch_12/000034.jpg', 'batch_12/000035.jpg', 'batch_12/000036.jpg', 'batch_12/000037.jpg', 'batch_12/000038.jpg', 'batch_12/000039.jpg', 'batch_12/000040.jpg', 'batch_12/000041.jpg', 'batch_12/000042.jpg', 'batch_12/000043.jpg', 'batch_12/000044.jpg', 'batch_12/000045.jpg', 'batch_12/000046.jpg', 'batch_12/000047.jpg', 'batch_12/000048.jpg', 'batch_12/000049.jpg', 'batch_12/000050.jpg', 'batch_12/000051.jpg', 'batch_12/000052.jpg', 'batch_12/000053.jpg', 'batch_12/000054.jpg', 'batch_12/000055.jpg', 'batch_12/000056.jpg', 'batch_12/000057.jpg', 'batch_12/000058.jpg', 'batch_12/000059.jpg', 'batch_12/000060.jpg', 'batch_12/000061.jpg', 'batch_12/000062.jpg', 'batch_12/000063.jpg', 'batch_12/000064.jpg', 'batch_12/000065.jpg', 'batch_12/000066.jpg', 'batch_12/000067.jpg', 'batch_12/000068.jpg', 'batch_12/000069.jpg', 'batch_12/000070.jpg', 'batch_12/000071.jpg', 'batch_12/000072.jpg', 'batch_12/000073.jpg', 'batch_12/000074.jpg', 'batch_12/000075.jpg', 'batch_12/000076.jpg', 'batch_12/000077.jpg', 'batch_12/000078.jpg', 'batch_12/000079.jpg', 'batch_12/000080.jpg', 'batch_12/000081.jpg', 'batch_12/000082.jpg', 'batch_12/000083.jpg', 'batch_12/000084.jpg', 'batch_12/000085.jpg', 'batch_12/000086.jpg', 'batch_12/000087.jpg', 'batch_12/000088.jpg', 'batch_12/000089.jpg', 'batch_12/000090.jpg', 'batch_12/000091.jpg', 'batch_12/000092.jpg', 'batch_12/000093.jpg', 'batch_12/000094.jpg', 'batch_12/000095.jpg', 'batch_12/000096.jpg', 'batch_12/000097.jpg', 'batch_12/000098.jpg', 'batch_12/000099.jpg']\n",
      "['batch_15/000000.jpg', 'batch_15/000001.jpg', 'batch_15/000002.jpg', 'batch_15/000003.jpg', 'batch_15/000004.jpg', 'batch_15/000005.jpg', 'batch_15/000006.jpg', 'batch_15/000007.jpg', 'batch_15/000008.jpg', 'batch_15/000009.jpg', 'batch_15/000010.jpg', 'batch_15/000011.jpg', 'batch_15/000012.jpg', 'batch_15/000013.jpg', 'batch_15/000014.jpg', 'batch_15/000015.jpg', 'batch_15/000016.jpg', 'batch_15/000017.jpg', 'batch_15/000018.jpg', 'batch_15/000019.jpg', 'batch_15/000020.jpg', 'batch_15/000021.jpg', 'batch_15/000022.jpg', 'batch_15/000023.jpg', 'batch_15/000024.jpg', 'batch_15/000025.jpg', 'batch_15/000026.jpg', 'batch_15/000027.jpg', 'batch_15/000028.jpg', 'batch_15/000029.jpg', 'batch_15/000030.jpg', 'batch_15/000031.jpg', 'batch_15/000032.jpg', 'batch_15/000033.jpg', 'batch_15/000034.jpg', 'batch_15/000035.jpg', 'batch_15/000036.jpg', 'batch_15/000037.jpg', 'batch_15/000038.jpg', 'batch_15/000039.jpg', 'batch_15/000040.jpg', 'batch_15/000041.jpg', 'batch_15/000042.jpg', 'batch_15/000043.jpg', 'batch_15/000044.jpg', 'batch_15/000045.jpg', 'batch_15/000046.jpg', 'batch_15/000047.jpg', 'batch_15/000048.jpg', 'batch_15/000049.jpg', 'batch_15/000050.jpg', 'batch_15/000051.jpg', 'batch_15/000052.jpg', 'batch_15/000053.jpg', 'batch_15/000054.jpg', 'batch_15/000055.jpg', 'batch_15/000056.jpg', 'batch_15/000057.jpg', 'batch_15/000058.jpg', 'batch_15/000059.jpg', 'batch_15/000060.jpg', 'batch_15/000061.jpg', 'batch_15/000062.jpg', 'batch_15/000063.jpg', 'batch_15/000064.jpg', 'batch_15/000065.jpg', 'batch_15/000066.jpg', 'batch_15/000067.jpg', 'batch_15/000068.jpg', 'batch_15/000069.jpg', 'batch_15/000070.jpg', 'batch_15/000071.jpg', 'batch_15/000072.jpg', 'batch_15/000073.jpg', 'batch_15/000074.jpg', 'batch_15/000075.jpg', 'batch_15/000076.jpg', 'batch_15/000077.jpg', 'batch_15/000078.jpg', 'batch_15/000079.jpg', 'batch_15/000080.jpg', 'batch_15/000081.jpg', 'batch_15/000082.jpg', 'batch_15/000083.jpg', 'batch_15/000084.jpg']\n",
      "['batch_9/000000.jpg', 'batch_9/000001.jpg', 'batch_9/000002.jpg', 'batch_9/000003.jpg', 'batch_9/000004.jpg', 'batch_9/000005.jpg', 'batch_9/000006.jpg', 'batch_9/000007.jpg', 'batch_9/000008.jpg', 'batch_9/000009.jpg', 'batch_9/000010.jpg', 'batch_9/000011.jpg', 'batch_9/000012.jpg', 'batch_9/000013.jpg', 'batch_9/000014.jpg', 'batch_9/000015.jpg', 'batch_9/000016.jpg', 'batch_9/000017.jpg', 'batch_9/000018.jpg', 'batch_9/000019.jpg', 'batch_9/000020.jpg', 'batch_9/000021.jpg', 'batch_9/000022.jpg', 'batch_9/000023.jpg', 'batch_9/000024.jpg', 'batch_9/000025.jpg', 'batch_9/000026.jpg', 'batch_9/000027.jpg', 'batch_9/000028.jpg', 'batch_9/000029.jpg', 'batch_9/000030.jpg', 'batch_9/000031.jpg', 'batch_9/000032.jpg', 'batch_9/000033.jpg', 'batch_9/000034.jpg', 'batch_9/000035.jpg', 'batch_9/000036.jpg', 'batch_9/000037.jpg', 'batch_9/000038.jpg', 'batch_9/000039.jpg', 'batch_9/000040.jpg', 'batch_9/000041.jpg', 'batch_9/000042.jpg', 'batch_9/000043.jpg', 'batch_9/000044.jpg', 'batch_9/000045.jpg', 'batch_9/000046.jpg', 'batch_9/000047.jpg', 'batch_9/000048.jpg', 'batch_9/000049.jpg', 'batch_9/000050.jpg', 'batch_9/000051.jpg', 'batch_9/000052.jpg', 'batch_9/000053.jpg', 'batch_9/000054.jpg', 'batch_9/000055.jpg', 'batch_9/000056.jpg', 'batch_9/000057.jpg', 'batch_9/000058.jpg', 'batch_9/000059.jpg', 'batch_9/000060.jpg', 'batch_9/000061.jpg', 'batch_9/000062.jpg', 'batch_9/000063.jpg', 'batch_9/000064.jpg', 'batch_9/000065.jpg', 'batch_9/000066.jpg', 'batch_9/000067.jpg', 'batch_9/000068.jpg', 'batch_9/000069.jpg', 'batch_9/000070.jpg', 'batch_9/000071.jpg', 'batch_9/000072.jpg', 'batch_9/000073.jpg', 'batch_9/000074.jpg', 'batch_9/000075.jpg', 'batch_9/000076.jpg', 'batch_9/000077.jpg', 'batch_9/000078.jpg', 'batch_9/000079.jpg', 'batch_9/000080.jpg', 'batch_9/000081.jpg', 'batch_9/000082.jpg', 'batch_9/000083.jpg', 'batch_9/000084.jpg', 'batch_9/000085.jpg', 'batch_9/000086.jpg', 'batch_9/000087.jpg', 'batch_9/000088.jpg', 'batch_9/000089.jpg', 'batch_9/000090.jpg', 'batch_9/000091.jpg', 'batch_9/000092.jpg', 'batch_9/000093.jpg', 'batch_9/000094.jpg', 'batch_9/000095.jpg', 'batch_9/000096.jpg', 'batch_9/000097.jpg', 'batch_9/000098.jpg', 'batch_9/000099.jpg']\n",
      "['batch_7/000000.JPG', 'batch_7/000001.JPG', 'batch_7/000002.JPG', 'batch_7/000003.JPG', 'batch_7/000004.JPG', 'batch_7/000005.JPG', 'batch_7/000006.JPG', 'batch_7/000008.JPG', 'batch_7/000010.JPG', 'batch_7/000011.JPG', 'batch_7/000012.JPG', 'batch_7/000013.JPG', 'batch_7/000014.JPG', 'batch_7/000015.JPG', 'batch_7/000016.JPG', 'batch_7/000017.JPG', 'batch_7/000018.JPG', 'batch_7/000019.JPG', 'batch_7/000020.JPG', 'batch_7/000021.JPG', 'batch_7/000022.JPG', 'batch_7/000023.JPG', 'batch_7/000024.JPG', 'batch_7/000025.JPG', 'batch_7/000029.JPG', 'batch_7/000030.JPG', 'batch_7/000031.JPG', 'batch_7/000033.JPG', 'batch_7/000034.JPG', 'batch_7/000035.JPG', 'batch_7/000036.JPG', 'batch_7/000037.JPG', 'batch_7/000038.JPG', 'batch_7/000039.JPG', 'batch_7/000042.JPG', 'batch_7/000043.JPG', 'batch_7/000044.JPG', 'batch_7/000045.JPG', 'batch_7/000047.JPG', 'batch_7/000048.JPG', 'batch_7/000049.JPG', 'batch_7/000050.JPG', 'batch_7/000051.JPG', 'batch_7/000052.JPG', 'batch_7/000053.JPG', 'batch_7/000054.JPG', 'batch_7/000055.JPG', 'batch_7/000056.JPG', 'batch_7/000057.JPG', 'batch_7/000058.JPG', 'batch_7/000060.JPG', 'batch_7/000062.JPG', 'batch_7/000063.JPG', 'batch_7/000064.JPG', 'batch_7/000065.JPG', 'batch_7/000066.JPG', 'batch_7/000067.JPG', 'batch_7/000068.JPG', 'batch_7/000069.JPG', 'batch_7/000070.JPG', 'batch_7/000071.JPG', 'batch_7/000072.JPG', 'batch_7/000073.JPG', 'batch_7/000075.JPG', 'batch_7/000076.JPG', 'batch_7/000077.JPG', 'batch_7/000078.JPG', 'batch_7/000079.JPG', 'batch_7/000080.JPG', 'batch_7/000081.JPG', 'batch_7/000082.JPG', 'batch_7/000083.JPG', 'batch_7/000084.JPG', 'batch_7/000085.JPG', 'batch_7/000086.JPG', 'batch_7/000087.JPG', 'batch_7/000088.JPG', 'batch_7/000089.JPG', 'batch_7/000090.JPG', 'batch_7/000091.JPG', 'batch_7/000092.JPG', 'batch_7/000093.JPG', 'batch_7/000094.JPG', 'batch_7/000095.JPG', 'batch_7/000096.JPG', 'batch_7/000097.JPG', 'batch_7/000098.JPG', 'batch_7/000100.JPG', 'batch_7/000101.JPG', 'batch_7/000102.JPG', 'batch_7/000103.JPG', 'batch_7/000104.JPG', 'batch_7/000106.JPG', 'batch_7/000107.JPG', 'batch_7/000108.JPG', 'batch_7/000109.JPG', 'batch_7/000110.JPG', 'batch_7/000111.JPG', 'batch_7/000112.JPG', 'batch_7/000113.JPG', 'batch_7/000114.JPG', 'batch_7/000115.JPG', 'batch_7/000117.JPG', 'batch_7/000118.JPG', 'batch_7/000119.JPG', 'batch_7/000120.JPG', 'batch_7/000121.JPG', 'batch_7/000122.JPG', 'batch_7/000123.JPG', 'batch_7/000124.JPG', 'batch_7/000125.JPG', 'batch_7/000126.JPG', 'batch_7/000127.JPG', 'batch_7/000128.JPG', 'batch_7/000129.JPG', 'batch_7/000131.JPG', 'batch_7/000132.JPG', 'batch_7/000133.JPG', 'batch_7/000134.JPG', 'batch_7/000135.JPG', 'batch_7/000136.JPG', 'batch_7/000137.JPG', 'batch_7/000138.JPG', 'batch_7/000139.JPG', 'batch_7/000140.JPG', 'batch_7/000141.JPG', 'batch_7/000142.JPG']\n",
      "['batch_5/000000.JPG', 'batch_5/000001.JPG', 'batch_5/000002.JPG', 'batch_5/000004.JPG', 'batch_5/000005.JPG', 'batch_5/000006.JPG', 'batch_5/000007.JPG', 'batch_5/000008.JPG', 'batch_5/000009.JPG', 'batch_5/000010.JPG', 'batch_5/000011.JPG', 'batch_5/000012.JPG', 'batch_5/000013.JPG', 'batch_5/000014.JPG', 'batch_5/000015.JPG', 'batch_5/000016.JPG', 'batch_5/000017.JPG', 'batch_5/000018.JPG', 'batch_5/000019.JPG', 'batch_5/000020.JPG', 'batch_5/000021.JPG', 'batch_5/000022.JPG', 'batch_5/000023.JPG', 'batch_5/000024.JPG', 'batch_5/000025.JPG', 'batch_5/000026.JPG', 'batch_5/000027.JPG', 'batch_5/000028.JPG', 'batch_5/000029.JPG', 'batch_5/000030.JPG', 'batch_5/000031.JPG', 'batch_5/000033.JPG', 'batch_5/000034.JPG', 'batch_5/000035.JPG', 'batch_5/000036.JPG', 'batch_5/000037.JPG', 'batch_5/000038.JPG', 'batch_5/000039.JPG', 'batch_5/000040.JPG', 'batch_5/000041.JPG', 'batch_5/000042.JPG', 'batch_5/000043.JPG', 'batch_5/000045.JPG', 'batch_5/000046.JPG', 'batch_5/000047.JPG', 'batch_5/000048.JPG', 'batch_5/000049.JPG', 'batch_5/000050.JPG', 'batch_5/000051.JPG', 'batch_5/000052.JPG', 'batch_5/000054.JPG', 'batch_5/000055.JPG', 'batch_5/000056.JPG', 'batch_5/000057.JPG', 'batch_5/000058.JPG', 'batch_5/000059.JPG', 'batch_5/000060.JPG', 'batch_5/000061.JPG', 'batch_5/000062.JPG', 'batch_5/000063.JPG', 'batch_5/000064.JPG', 'batch_5/000066.JPG', 'batch_5/000067.JPG', 'batch_5/000068.JPG', 'batch_5/000069.JPG', 'batch_5/000070.JPG', 'batch_5/000071.JPG', 'batch_5/000072.JPG', 'batch_5/000073.JPG', 'batch_5/000074.JPG', 'batch_5/000075.JPG', 'batch_5/000076.JPG', 'batch_5/000079.JPG', 'batch_5/000081.JPG', 'batch_5/000082.JPG', 'batch_5/000083.JPG', 'batch_5/000084.JPG', 'batch_5/000085.JPG', 'batch_5/000086.JPG', 'batch_5/000087.JPG', 'batch_5/000088.JPG', 'batch_5/000089.JPG', 'batch_5/000090.JPG', 'batch_5/000091.JPG', 'batch_5/000092.JPG', 'batch_5/000093.JPG', 'batch_5/000094.JPG', 'batch_5/000095.JPG', 'batch_5/000096.JPG', 'batch_5/000097.JPG', 'batch_5/000098.JPG', 'batch_5/000099.JPG', 'batch_5/000100.JPG', 'batch_5/000101.JPG', 'batch_5/000102.JPG', 'batch_5/000103.JPG', 'batch_5/000104.JPG', 'batch_5/000105.JPG', 'batch_5/000106.JPG', 'batch_5/000107.JPG', 'batch_5/000108.JPG', 'batch_5/000110.JPG', 'batch_5/000111.JPG', 'batch_5/000112.JPG', 'batch_5/000113.JPG', 'batch_5/000114.JPG', 'batch_5/000115.JPG', 'batch_5/000116.JPG', 'batch_5/000117.JPG', 'batch_5/000118.JPG', 'batch_5/000119.JPG', 'batch_5/000120.JPG']\n",
      "['batch_2/000000.JPG', 'batch_2/000001.JPG', 'batch_2/000003.JPG', 'batch_2/000005.JPG', 'batch_2/000006.JPG', 'batch_2/000007.JPG', 'batch_2/000008.JPG', 'batch_2/000009.JPG', 'batch_2/000010.JPG', 'batch_2/000012.JPG', 'batch_2/000013.JPG', 'batch_2/000014.JPG', 'batch_2/000015.JPG', 'batch_2/000016.JPG', 'batch_2/000017.JPG', 'batch_2/000018.JPG', 'batch_2/000019.JPG', 'batch_2/000020.JPG', 'batch_2/000021.JPG', 'batch_2/000022.JPG', 'batch_2/000023.JPG', 'batch_2/000024.JPG', 'batch_2/000025.JPG', 'batch_2/000026.JPG', 'batch_2/000027.JPG', 'batch_2/000029.JPG', 'batch_2/000030.JPG', 'batch_2/000031.JPG', 'batch_2/000032.JPG', 'batch_2/000033.JPG', 'batch_2/000034.JPG', 'batch_2/000035.JPG', 'batch_2/000036.JPG', 'batch_2/000037.JPG', 'batch_2/000038.JPG', 'batch_2/000039.JPG', 'batch_2/000040.JPG', 'batch_2/000041.JPG', 'batch_2/000042.JPG', 'batch_2/000043.JPG', 'batch_2/000044.JPG', 'batch_2/000046.JPG', 'batch_2/000047.JPG', 'batch_2/000048.JPG', 'batch_2/000049.JPG', 'batch_2/000050.JPG', 'batch_2/000051.JPG', 'batch_2/000052.JPG', 'batch_2/000053.JPG', 'batch_2/000054.JPG', 'batch_2/000055.JPG', 'batch_2/000056.JPG', 'batch_2/000057.JPG', 'batch_2/000058.JPG', 'batch_2/000059.JPG', 'batch_2/000060.JPG', 'batch_2/000061.JPG', 'batch_2/000062.JPG', 'batch_2/000063.JPG', 'batch_2/000064.JPG', 'batch_2/000065.JPG', 'batch_2/000067.JPG', 'batch_2/000068.JPG', 'batch_2/000069.JPG', 'batch_2/000070.JPG', 'batch_2/000071.JPG', 'batch_2/000072.JPG', 'batch_2/000073.JPG', 'batch_2/000074.JPG', 'batch_2/000075.JPG', 'batch_2/000076.JPG', 'batch_2/000077.JPG', 'batch_2/000079.JPG', 'batch_2/000080.JPG', 'batch_2/000081.JPG', 'batch_2/000082.JPG', 'batch_2/000083.JPG', 'batch_2/000084.JPG', 'batch_2/000085.JPG', 'batch_2/000086.JPG', 'batch_2/000088.JPG', 'batch_2/000089.JPG', 'batch_2/000090.JPG', 'batch_2/000091.JPG', 'batch_2/000092.JPG', 'batch_2/000093.JPG', 'batch_2/000094.JPG', 'batch_2/000095.JPG', 'batch_2/000096.JPG', 'batch_2/000097.JPG', 'batch_2/000098.JPG', 'batch_2/000099.JPG']\n",
      "['batch_10/000000.jpg', 'batch_10/000001.jpg', 'batch_10/000002.jpg', 'batch_10/000003.jpg', 'batch_10/000004.jpg', 'batch_10/000005.jpg', 'batch_10/000006.jpg', 'batch_10/000007.jpg', 'batch_10/000008.jpg', 'batch_10/000009.jpg', 'batch_10/000010.jpg', 'batch_10/000011.jpg', 'batch_10/000012.jpg', 'batch_10/000013.jpg', 'batch_10/000014.jpg', 'batch_10/000015.jpg', 'batch_10/000016.jpg', 'batch_10/000017.jpg', 'batch_10/000018.jpg', 'batch_10/000019.jpg', 'batch_10/000020.jpg', 'batch_10/000021.jpg', 'batch_10/000022.jpg', 'batch_10/000023.jpg', 'batch_10/000024.jpg', 'batch_10/000025.jpg', 'batch_10/000026.jpg', 'batch_10/000027.jpg', 'batch_10/000028.jpg', 'batch_10/000029.jpg', 'batch_10/000030.jpg', 'batch_10/000031.jpg', 'batch_10/000032.jpg', 'batch_10/000033.jpg', 'batch_10/000034.jpg', 'batch_10/000035.jpg', 'batch_10/000036.jpg', 'batch_10/000037.jpg', 'batch_10/000038.jpg', 'batch_10/000039.jpg', 'batch_10/000040.jpg', 'batch_10/000041.jpg', 'batch_10/000042.jpg', 'batch_10/000043.jpg', 'batch_10/000044.jpg', 'batch_10/000045.jpg', 'batch_10/000046.jpg', 'batch_10/000047.jpg', 'batch_10/000048.jpg', 'batch_10/000049.jpg', 'batch_10/000050.jpg', 'batch_10/000051.jpg', 'batch_10/000052.jpg', 'batch_10/000053.jpg', 'batch_10/000054.jpg', 'batch_10/000055.jpg', 'batch_10/000056.jpg', 'batch_10/000057.jpg', 'batch_10/000058.jpg', 'batch_10/000059.jpg', 'batch_10/000060.jpg', 'batch_10/000061.jpg', 'batch_10/000062.jpg', 'batch_10/000063.jpg', 'batch_10/000064.jpg', 'batch_10/000065.jpg', 'batch_10/000066.jpg', 'batch_10/000067.jpg', 'batch_10/000068.jpg', 'batch_10/000069.jpg', 'batch_10/000070.jpg', 'batch_10/000071.jpg', 'batch_10/000072.jpg', 'batch_10/000073.jpg', 'batch_10/000074.jpg', 'batch_10/000075.jpg', 'batch_10/000076.jpg', 'batch_10/000077.jpg', 'batch_10/000078.jpg', 'batch_10/000079.jpg', 'batch_10/000080.jpg', 'batch_10/000081.jpg', 'batch_10/000082.jpg', 'batch_10/000083.jpg', 'batch_10/000084.jpg', 'batch_10/000085.jpg', 'batch_10/000086.jpg', 'batch_10/000087.jpg', 'batch_10/000088.jpg', 'batch_10/000089.jpg', 'batch_10/000090.jpg', 'batch_10/000091.jpg', 'batch_10/000092.jpg', 'batch_10/000093.jpg', 'batch_10/000094.jpg', 'batch_10/000095.jpg', 'batch_10/000096.jpg', 'batch_10/000097.jpg', 'batch_10/000098.jpg', 'batch_10/000099.jpg']\n",
      "['batch_3/IMG_4852.JPG', 'batch_3/IMG_4854.JPG', 'batch_3/IMG_4855.JPG', 'batch_3/IMG_4856.JPG', 'batch_3/IMG_4857.JPG', 'batch_3/IMG_4859.JPG', 'batch_3/IMG_4860.JPG', 'batch_3/IMG_4862.JPG', 'batch_3/IMG_4865.JPG', 'batch_3/IMG_4868.JPG', 'batch_3/IMG_4869.JPG', 'batch_3/IMG_4874.JPG', 'batch_3/IMG_4875.JPG', 'batch_3/IMG_4876.JPG', 'batch_3/IMG_4877.JPG', 'batch_3/IMG_4878.JPG', 'batch_3/IMG_4879.JPG', 'batch_3/IMG_4881.JPG', 'batch_3/IMG_4883.JPG', 'batch_3/IMG_4887.JPG', 'batch_3/IMG_4889.JPG', 'batch_3/IMG_4891.JPG', 'batch_3/IMG_4893.JPG', 'batch_3/IMG_4895.JPG', 'batch_3/IMG_4897.JPG', 'batch_3/IMG_4898.JPG', 'batch_3/IMG_4901.JPG', 'batch_3/IMG_4902.JPG', 'batch_3/IMG_4907.JPG', 'batch_3/IMG_4911.JPG', 'batch_3/IMG_4913.JPG', 'batch_3/IMG_4914.JPG', 'batch_3/IMG_4915.JPG', 'batch_3/IMG_4916.JPG', 'batch_3/IMG_4917.JPG', 'batch_3/IMG_4919.JPG', 'batch_3/IMG_4921.JPG', 'batch_3/IMG_4922.JPG', 'batch_3/IMG_4924.JPG', 'batch_3/IMG_4926.JPG', 'batch_3/IMG_4928.JPG', 'batch_3/IMG_4929.JPG', 'batch_3/IMG_4932.JPG', 'batch_3/IMG_4934.JPG', 'batch_3/IMG_4936.JPG', 'batch_3/IMG_4939.JPG', 'batch_3/IMG_4941.JPG', 'batch_3/IMG_4948.JPG', 'batch_3/IMG_4950.JPG', 'batch_3/IMG_4961.JPG', 'batch_3/IMG_4963.JPG', 'batch_3/IMG_4964.JPG', 'batch_3/IMG_4965.JPG', 'batch_3/IMG_4966.JPG', 'batch_3/IMG_4967.JPG', 'batch_3/IMG_4969.JPG', 'batch_3/IMG_4971.JPG', 'batch_3/IMG_4972.JPG', 'batch_3/IMG_4977.JPG', 'batch_3/IMG_4978.JPG', 'batch_3/IMG_4980.JPG', 'batch_3/IMG_4992.JPG', 'batch_3/IMG_4994.JPG', 'batch_3/IMG_4996.JPG', 'batch_3/IMG_4997.JPG', 'batch_3/IMG_4998.JPG', 'batch_3/IMG_5002.JPG', 'batch_3/IMG_5003.JPG', 'batch_3/IMG_5036.JPG', 'batch_3/IMG_5037.JPG', 'batch_3/IMG_5039.JPG', 'batch_3/IMG_5040.JPG', 'batch_3/IMG_5041.JPG', 'batch_3/IMG_5042.JPG', 'batch_3/IMG_5043.JPG', 'batch_3/IMG_5044.JPG', 'batch_3/IMG_5045.JPG', 'batch_3/IMG_5046.JPG', 'batch_3/IMG_5048.JPG', 'batch_3/IMG_5049.JPG', 'batch_3/IMG_5050.JPG', 'batch_3/IMG_5051.JPG', 'batch_3/IMG_5052.JPG', 'batch_3/IMG_5053.JPG', 'batch_3/IMG_5054.JPG', 'batch_3/IMG_5055.JPG', 'batch_3/IMG_5056.JPG', 'batch_3/IMG_5057.JPG', 'batch_3/IMG_5058.JPG', 'batch_3/IMG_5060.JPG', 'batch_3/IMG_5061.JPG', 'batch_3/IMG_5063.JPG', 'batch_3/IMG_5064.JPG', 'batch_3/IMG_5065.JPG', 'batch_3/IMG_5066.JPG', 'batch_3/IMG_5067.JPG', 'batch_3/IMG_5068.JPG']\n",
      "['batch_4/000000.JPG', 'batch_4/000002.JPG', 'batch_4/000003.JPG', 'batch_4/000004.JPG', 'batch_4/000005.JPG', 'batch_4/000006.JPG', 'batch_4/000007.JPG', 'batch_4/000008.JPG', 'batch_4/000009.JPG', 'batch_4/000010.JPG', 'batch_4/000011.JPG', 'batch_4/000012.JPG', 'batch_4/000013.JPG', 'batch_4/000014.JPG', 'batch_4/000015.JPG', 'batch_4/000016.JPG', 'batch_4/000018.JPG', 'batch_4/000019.JPG', 'batch_4/000020.JPG', 'batch_4/000021.JPG', 'batch_4/000022.JPG', 'batch_4/000023.JPG', 'batch_4/000025.JPG', 'batch_4/000026.JPG', 'batch_4/000027.JPG', 'batch_4/000028.JPG', 'batch_4/000029.JPG', 'batch_4/000031.JPG', 'batch_4/000032.JPG', 'batch_4/000034.JPG', 'batch_4/000035.JPG', 'batch_4/000036.JPG', 'batch_4/000037.JPG', 'batch_4/000039.JPG', 'batch_4/000040.JPG', 'batch_4/000041.JPG', 'batch_4/000042.JPG', 'batch_4/000043.JPG', 'batch_4/000045.JPG', 'batch_4/000046.JPG', 'batch_4/000047.JPG', 'batch_4/000048.JPG', 'batch_4/000049.JPG', 'batch_4/000050.JPG', 'batch_4/000051.JPG', 'batch_4/000052.JPG', 'batch_4/000053.JPG', 'batch_4/000054.JPG', 'batch_4/000055.JPG', 'batch_4/000056.JPG', 'batch_4/000057.JPG', 'batch_4/000058.JPG', 'batch_4/000059.JPG', 'batch_4/000060.JPG', 'batch_4/000061.JPG', 'batch_4/000062.JPG', 'batch_4/000063.JPG', 'batch_4/000064.JPG', 'batch_4/000065.JPG', 'batch_4/000066.JPG', 'batch_4/000067.JPG', 'batch_4/000068.JPG', 'batch_4/000069.JPG', 'batch_4/000070.JPG', 'batch_4/000071.JPG', 'batch_4/000072.JPG', 'batch_4/000073.JPG', 'batch_4/000074.JPG', 'batch_4/000076.JPG', 'batch_4/000077.JPG', 'batch_4/000079.JPG', 'batch_4/000080.JPG', 'batch_4/000081.JPG', 'batch_4/000082.JPG', 'batch_4/000083.JPG', 'batch_4/000084.JPG', 'batch_4/000085.JPG', 'batch_4/000086.JPG', 'batch_4/000087.JPG', 'batch_4/000088.JPG', 'batch_4/000089.JPG', 'batch_4/000090.JPG', 'batch_4/000092.JPG', 'batch_4/000093.JPG', 'batch_4/000094.JPG', 'batch_4/000095.JPG', 'batch_4/000096.JPG', 'batch_4/000097.JPG', 'batch_4/000098.JPG']\n",
      "['batch_11/000000.jpg', 'batch_11/000001.jpg', 'batch_11/000002.jpg', 'batch_11/000003.jpg', 'batch_11/000004.jpg', 'batch_11/000005.jpg', 'batch_11/000006.jpg', 'batch_11/000007.jpg', 'batch_11/000008.jpg', 'batch_11/000009.jpg', 'batch_11/000010.jpg', 'batch_11/000011.jpg', 'batch_11/000012.jpg', 'batch_11/000013.jpg', 'batch_11/000014.jpg', 'batch_11/000015.jpg', 'batch_11/000016.jpg', 'batch_11/000017.jpg', 'batch_11/000018.jpg', 'batch_11/000019.jpg', 'batch_11/000020.jpg', 'batch_11/000021.jpg', 'batch_11/000022.jpg', 'batch_11/000023.jpg', 'batch_11/000024.jpg', 'batch_11/000025.jpg', 'batch_11/000026.jpg', 'batch_11/000027.jpg', 'batch_11/000028.jpg', 'batch_11/000029.jpg', 'batch_11/000030.jpg', 'batch_11/000031.jpg', 'batch_11/000032.jpg', 'batch_11/000033.jpg', 'batch_11/000034.jpg', 'batch_11/000035.jpg', 'batch_11/000036.jpg', 'batch_11/000037.jpg', 'batch_11/000038.jpg', 'batch_11/000039.jpg', 'batch_11/000040.jpg', 'batch_11/000041.jpg', 'batch_11/000042.jpg', 'batch_11/000043.jpg', 'batch_11/000044.jpg', 'batch_11/000045.jpg', 'batch_11/000046.jpg', 'batch_11/000047.jpg', 'batch_11/000048.jpg', 'batch_11/000049.jpg', 'batch_11/000050.jpg', 'batch_11/000051.jpg', 'batch_11/000052.jpg', 'batch_11/000053.jpg', 'batch_11/000054.jpg', 'batch_11/000055.jpg', 'batch_11/000056.jpg', 'batch_11/000057.jpg', 'batch_11/000058.jpg', 'batch_11/000059.jpg', 'batch_11/000060.jpg', 'batch_11/000061.jpg', 'batch_11/000062.jpg', 'batch_11/000063.jpg', 'batch_11/000064.jpg', 'batch_11/000065.jpg', 'batch_11/000066.jpg', 'batch_11/000067.jpg', 'batch_11/000068.jpg', 'batch_11/000069.jpg', 'batch_11/000070.jpg', 'batch_11/000071.jpg', 'batch_11/000072.jpg', 'batch_11/000073.jpg', 'batch_11/000074.jpg', 'batch_11/000075.jpg', 'batch_11/000076.jpg', 'batch_11/000077.jpg', 'batch_11/000078.jpg', 'batch_11/000079.jpg', 'batch_11/000080.jpg', 'batch_11/000081.jpg', 'batch_11/000082.jpg', 'batch_11/000083.jpg', 'batch_11/000084.jpg', 'batch_11/000085.jpg', 'batch_11/000086.jpg', 'batch_11/000087.jpg', 'batch_11/000088.jpg', 'batch_11/000089.jpg', 'batch_11/000090.jpg', 'batch_11/000091.jpg', 'batch_11/000092.jpg', 'batch_11/000093.jpg', 'batch_11/000094.jpg', 'batch_11/000095.jpg', 'batch_11/000096.jpg', 'batch_11/000097.jpg', 'batch_11/000098.jpg', 'batch_11/000099.jpg']\n"
     ]
    }
   ],
   "source": [
    "trainTestValCumulativeSplit = [0.8, 0.9, 1.0]\n",
    "for batch in batchFolderNames:\n",
    "    splitData(batch, trainTestValCumulativeSplit)"
   ]
  },
  {
   "cell_type": "markdown",
   "metadata": {},
   "source": [
    "# Error Explanation"
   ]
  },
  {
   "cell_type": "markdown",
   "metadata": {},
   "source": [
    "The function is splitting the data into 3 sets. These threshold is computed from the input list and eventually the 3 if statements. What's going on is that the code is doing something like:\n",
    "\n",
    "$${\\rm if} \\  x < a$$\n",
    "$${\\rm if} \\  a < x < b$$\n",
    "$${\\rm if} \\  x > b$$\n",
    "\n",
    "However it misses the cases where $x=a$ and $x=b$. You can fix this by changing the if statements to:\n",
    "\n",
    "$${\\rm if} \\  x \\leq a$$\n",
    "$${\\rm if} \\  a < x \\leq b$$\n",
    "$${\\rm if} \\  x > b$$\n",
    "\n",
    "or even\n",
    "\n",
    "$${\\rm if} \\  x < a$$\n",
    "$${\\rm if} \\  a \\leq x < b$$\n",
    "$${\\rm if} \\  x \\geq b$$"
   ]
  },
  {
   "cell_type": "markdown",
   "metadata": {},
   "source": [
    "However, we can just clean up by moving all the extra data into the train folders."
   ]
  },
  {
   "cell_type": "code",
   "execution_count": 14,
   "metadata": {},
   "outputs": [],
   "source": [
    "#move all leftover files to train\n",
    "for folder in batchFolderNames:\n",
    "    for file in os.listdir(\"data/\" + folder):\n",
    "        if file[-3:] == 'jpg':\n",
    "            shutil.move(\"data/\" + folder + '/' + file, \"data/\" + folder + '/train/' + file)"
   ]
  },
  {
   "cell_type": "code",
   "execution_count": null,
   "metadata": {},
   "outputs": [],
   "source": []
  }
 ],
 "metadata": {
  "kernelspec": {
   "display_name": "Python 3",
   "language": "python",
   "name": "python3"
  },
  "language_info": {
   "codemirror_mode": {
    "name": "ipython",
    "version": 3
   },
   "file_extension": ".py",
   "mimetype": "text/x-python",
   "name": "python",
   "nbconvert_exporter": "python",
   "pygments_lexer": "ipython3",
   "version": "3.9.13"
  }
 },
 "nbformat": 4,
 "nbformat_minor": 2
}
