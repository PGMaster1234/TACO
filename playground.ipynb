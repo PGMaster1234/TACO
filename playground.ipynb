{
 "cells": [
  {
   "cell_type": "code",
   "execution_count": 29,
   "metadata": {},
   "outputs": [],
   "source": [
    "import json \n",
    "with open(\"data/annotations.json\", \"r\") as f:\n",
    "    annotations = json.load(f)"
   ]
  },
  {
   "cell_type": "code",
   "execution_count": 30,
   "metadata": {},
   "outputs": [
    {
     "data": {
      "text/plain": [
       "dict_keys(['info', 'images', 'annotations', 'scene_annotations', 'licenses', 'categories', 'scene_categories'])"
      ]
     },
     "execution_count": 30,
     "metadata": {},
     "output_type": "execute_result"
    }
   ],
   "source": [
    "annotations.keys()"
   ]
  },
  {
   "cell_type": "code",
   "execution_count": 31,
   "metadata": {},
   "outputs": [],
   "source": [
    "images = annotations[\"images\"]"
   ]
  },
  {
   "cell_type": "code",
   "execution_count": 32,
   "metadata": {},
   "outputs": [],
   "source": [
    "from PIL import Image\n",
    "import numpy as np "
   ]
  },
  {
   "cell_type": "code",
   "execution_count": null,
   "metadata": {},
   "outputs": [],
   "source": [
    "path = images[0][\"file_name\"]\n",
    "\n",
    "# open image from path\n",
    "img = Image.open(\"data/\" + path)\n",
    "img_array = np.array(img)"
   ]
  },
  {
   "cell_type": "code",
   "execution_count": null,
   "metadata": {},
   "outputs": [],
   "source": [
    "img.show()"
   ]
  },
  {
   "cell_type": "code",
   "execution_count": null,
   "metadata": {},
   "outputs": [],
   "source": [
    "import os"
   ]
  },
  {
   "cell_type": "code",
   "execution_count": null,
   "metadata": {},
   "outputs": [],
   "source": [
    "batchFolderNames = []\n",
    "for filename in os.listdir(\"data\"):\n",
    "    if not filename.startswith('.') and os.path.splitext(filename)[1] != '.csv' and os.path.splitext(filename)[1] != '.json':\n",
    "        batchFolderNames.append(filename)\n",
    "print(batchFolderNames)"
   ]
  },
  {
   "cell_type": "code",
   "execution_count": null,
   "metadata": {},
   "outputs": [],
   "source": [
    "import shutil"
   ]
  },
  {
   "cell_type": "code",
   "execution_count": null,
   "metadata": {},
   "outputs": [],
   "source": [
    "def splitData(batchFolderName, trainTestValCumulativeSplit):\n",
    "    os.makedirs(\"data/\" + batchFolderName + \"/train\")\n",
    "    os.makedirs(\"data/\" + batchFolderName + \"/test\")\n",
    "    os.makedirs(\"data/\" + batchFolderName + \"/val\")\n",
    "    fileNames = []\n",
    "    for image in images:\n",
    "        if image['file_name'].split('/')[0] == batchFolderName:\n",
    "            fileNames.append(image['file_name'])\n",
    "    fileNames.sort()\n",
    "    print(fileNames)\n",
    "    for i, file in enumerate(fileNames):\n",
    "        file = list(file.split(\"/\"))\n",
    "        if (i / len(fileNames)) < trainTestValCumulativeSplit[0]:\n",
    "            shutil.move(\"data/\" + file[0] + '/' + file[1], \"data/\" + file[0] + '/train/' + file[1])\n",
    "        if trainTestValCumulativeSplit[0] < (i / len(fileNames)) < trainTestValCumulativeSplit[1]:\n",
    "            shutil.move(\"data/\" + file[0] + '/' + file[1], \"data/\" + file[0] + '/test/' + file[1])\n",
    "        if trainTestValCumulativeSplit[1] < (i / len(fileNames)):\n",
    "            shutil.move(\"data/\" + file[0] + '/' + file[1], \"data/\" + file[0] + '/val/' + file[1])"
   ]
  },
  {
   "cell_type": "code",
   "execution_count": null,
   "metadata": {},
   "outputs": [],
   "source": [
    "trainTestValCumulativeSplit = [0.8, 0.9, 1.0]\n",
    "for batch in batchFolderNames:\n",
    "    splitData(batch, trainTestValCumulativeSplit)"
   ]
  }
 ],
 "metadata": {
  "kernelspec": {
   "display_name": "Python 3",
   "language": "python",
   "name": "python3"
  },
  "language_info": {
   "codemirror_mode": {
    "name": "ipython",
    "version": 3
   },
   "file_extension": ".py",
   "mimetype": "text/x-python",
   "name": "python",
   "nbconvert_exporter": "python",
   "pygments_lexer": "ipython3",
   "version": "3.9.13"
  }
 },
 "nbformat": 4,
 "nbformat_minor": 2
}
